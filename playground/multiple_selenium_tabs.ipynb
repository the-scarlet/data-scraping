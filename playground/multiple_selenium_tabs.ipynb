{
 "cells": [
  {
   "cell_type": "code",
   "execution_count": 1,
   "id": "222af3d5",
   "metadata": {},
   "outputs": [
    {
     "name": "stdout",
     "output_type": "stream",
     "text": [
      "c:\\Users\\SamiCHAKROUN\\data_scraping\n"
     ]
    }
   ],
   "source": [
    "import sys\n",
    "from pathlib import Path\n",
    "\n",
    "# Get the absolute path of the project root (data_scraping/)\n",
    "project_root = Path.cwd().parent  # Moves up from playground to data_scraping\n",
    "sys.path.append(str(project_root))  # Add to Python path\n",
    "print(project_root)"
   ]
  },
  {
   "cell_type": "code",
   "execution_count": null,
   "id": "d3318bf8",
   "metadata": {},
   "outputs": [
    {
     "name": "stdout",
     "output_type": "stream",
     "text": [
      "Successfully searched for 4 keywords in separate tabs.\n"
     ]
    }
   ],
   "source": [
    "import os\n",
    "import sys\n",
    "from selenium import webdriver\n",
    "from selenium.webdriver.common.keys import Keys\n",
    "from selenium.webdriver.common.by import By\n",
    "import time\n",
    "\n",
    "from config.config import AppConfig\n",
    "from src.services.google_alerts_service.processing.processing import GoogleAlertsProcessing\n",
    "from src.utils.selenium_util.selenium_util import SeleniumUtil\n",
    "_selenium = SeleniumUtil()\n",
    "config = AppConfig()\n",
    "_processing = GoogleAlertsProcessing()\n",
    "CONSTANT_DUMMY_TEXT=\"### DUMMY TEXT ###\"\n",
    "options={\"language\": config.default_entry}\n",
    "available_options = dict()\n",
    "# List of keywords to search\n",
    "keywords = [\"keyword1\", \"keyword2\", \"keyword3\", \"keyword4\"]  # Replace with your keywords\n",
    "\n",
    "_selenium.get_url(\"https://www.google.com/alerts\")\n",
    "_selenium.set_text_input_value(\n",
    "                \"by_css\", \"#query_div input[type='text']\", CONSTANT_DUMMY_TEXT\n",
    "            )\n",
    "_selenium.click_button(\"by_css\", \"span.show_options[role='button']\")\n",
    "for option in options:\n",
    "    if options.get(option) != config.default_entry:\n",
    "        _processing.set_option(\n",
    "            _selenium, option, options.get(option), available_options\n",
    "        )\n",
    "html_with_correct_options = _selenium.driver.execute_script(\"return document.documentElement.outerHTML;\")\n",
    "time.sleep(2)\n",
    "# Loop through keywords starting from the first one\n",
    "# for i, keyword in enumerate(keywords):\n",
    "#     if i > 0:  # For subsequent keywords, open a new tab\n",
    "#         _selenium.driver.execute_script(\"window.open('');\")\n",
    "#         _selenium.driver.switch_to.window(_selenium.driver.window_handles[i])\n",
    "#         _selenium.driver.execute_script(f\"\"\"\n",
    "#             document.body.innerHTML = `{html_with_correct_options}`;\n",
    "#         \"\"\")\n",
    "_selenium.driver.execute_script(\"window.open('about:blank');\")\n",
    " # 2. Open a new tab\n",
    "_selenium.driver.execute_script(\"window.open('');\")\n",
    "\n",
    "# 3. Switch to the new tab\n",
    "_selenium.driver.switch_to.window(_selenium.driver.window_handles[-1])  # Switch to the new tab\n",
    "\n",
    "# 4. Create a new document with the copied content\n",
    "_selenium.driver.execute_script(\"\"\"\n",
    "    document.open();\n",
    "    document.write(arguments[0]);\n",
    "    document.close();\n",
    "\"\"\", html_with_correct_options)\n",
    "    # Find the search box and enter the keyword\n",
    "    # _selenium.set_text_input_value(\n",
    "    #             \"by_css\", \"#query_div input[type='text']\", keyword\n",
    "    #         )\n",
    "    \n",
    "    # Short pause between searches\n",
    "    # time.sleep(2)\n",
    "    \n",
    "print(f\"Successfully searched for {len(keywords)} keywords in separate tabs.\")\n",
    "from selenium import webdriver\n",
    "from selenium.webdriver.common.keys import Keys\n",
    "from selenium.webdriver.common.by import By\n",
    "import time\n",
    "\n"
   ]
  },
  {
   "cell_type": "code",
   "execution_count": null,
   "id": "71ac47ec",
   "metadata": {},
   "outputs": [],
   "source": [
    "from selenium import webdriver\n",
    "\n",
    "# 1. Get the full HTML of the current page\n",
    "page_html = driver.execute_script(\"return document.documentElement.outerHTML;\")\n",
    "\n",
    "# 2. Open a new tab with about:blank\n",
    "driver.execute_script(\"window.open('about:blank');\")\n",
    "driver.switch_to.window(driver.window_handles[-1])  # Switch to the new tab\n",
    "\n",
    "# 3. Replace the entire DOM of the new tab with the copied HTML\n",
    "driver.execute_script(\"\"\"\n",
    "    document.open();\n",
    "    document.write(arguments[0]);\n",
    "    document.close();\n",
    "\"\"\", page_html)\n",
    "\n",
    "# Optional: Switch back to the original tab\n",
    "# driver.switch_to.window(driver.window_handles[0])"
   ]
  },
  {
   "cell_type": "code",
   "execution_count": null,
   "id": "0c9d394d",
   "metadata": {},
   "outputs": [],
   "source": []
  }
 ],
 "metadata": {
  "kernelspec": {
   "display_name": ".env",
   "language": "python",
   "name": "python3"
  },
  "language_info": {
   "codemirror_mode": {
    "name": "ipython",
    "version": 3
   },
   "file_extension": ".py",
   "mimetype": "text/x-python",
   "name": "python",
   "nbconvert_exporter": "python",
   "pygments_lexer": "ipython3",
   "version": "3.12.3"
  }
 },
 "nbformat": 4,
 "nbformat_minor": 5
}
