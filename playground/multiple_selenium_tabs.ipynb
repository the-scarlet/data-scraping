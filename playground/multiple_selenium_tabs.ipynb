{
 "cells": [
  {
   "cell_type": "code",
   "execution_count": null,
   "id": "d3318bf8",
   "metadata": {},
   "outputs": [
    {
     "ename": "JavascriptException",
     "evalue": "Message: javascript error: Unexpected string\n  (Session info: chrome=136.0.7103.49)\nStacktrace:\n\tGetHandleVerifier [0x00007FF7558ACF45+75717]\n\tGetHandleVerifier [0x00007FF7558ACFA0+75808]\n\t(No symbol) [0x00007FF755678F9A]\n\t(No symbol) [0x00007FF755680998]\n\t(No symbol) [0x00007FF755683D51]\n\t(No symbol) [0x00007FF7557205F8]\n\t(No symbol) [0x00007FF7556F737A]\n\t(No symbol) [0x00007FF75571F39C]\n\t(No symbol) [0x00007FF7556F7153]\n\t(No symbol) [0x00007FF7556C0421]\n\t(No symbol) [0x00007FF7556C11B3]\n\tGetHandleVerifier [0x00007FF755BAD71D+3223453]\n\tGetHandleVerifier [0x00007FF755BA7CC2+3200322]\n\tGetHandleVerifier [0x00007FF755BC5AF3+3322739]\n\tGetHandleVerifier [0x00007FF7558C6A1A+180890]\n\tGetHandleVerifier [0x00007FF7558CE11F+211359]\n\tGetHandleVerifier [0x00007FF7558B5294+109332]\n\tGetHandleVerifier [0x00007FF7558B5442+109762]\n\tGetHandleVerifier [0x00007FF75589BA59+4825]\n\tBaseThreadInitThunk [0x00007FFDA561E8D7+23]\n\tRtlUserThreadStart [0x00007FFDA67914FC+44]\n",
     "output_type": "error",
     "traceback": [
      "\u001b[31m---------------------------------------------------------------------------\u001b[39m",
      "\u001b[31mJavascriptException\u001b[39m                       Traceback (most recent call last)",
      "\u001b[36mCell\u001b[39m\u001b[36m \u001b[39m\u001b[32mIn[17]\u001b[39m\u001b[32m, line 43\u001b[39m\n\u001b[32m     41\u001b[39m     _selenium.driver.execute_script(\u001b[33m\"\u001b[39m\u001b[33mwindow.open(\u001b[39m\u001b[33m'\u001b[39m\u001b[33m'\u001b[39m\u001b[33m);\u001b[39m\u001b[33m\"\u001b[39m)\n\u001b[32m     42\u001b[39m     _selenium.driver.switch_to.window(_selenium.driver.window_handles[i])\n\u001b[32m---> \u001b[39m\u001b[32m43\u001b[39m     \u001b[43m_selenium\u001b[49m\u001b[43m.\u001b[49m\u001b[43mdriver\u001b[49m\u001b[43m.\u001b[49m\u001b[43mexecute_script\u001b[49m\u001b[43m(\u001b[49m\u001b[33;43mf\u001b[39;49m\u001b[33;43m\"\"\"\u001b[39;49m\n\u001b[32m     44\u001b[39m \u001b[33;43m        document.body.innerHTML = `\u001b[39;49m\u001b[38;5;132;43;01m{\u001b[39;49;00m\u001b[43mhtml_with_correct_options\u001b[49m\u001b[38;5;132;43;01m}\u001b[39;49;00m\u001b[33;43m`;\u001b[39;49m\n\u001b[32m     45\u001b[39m \u001b[33;43m    \u001b[39;49m\u001b[33;43m\"\"\"\u001b[39;49m\u001b[43m)\u001b[49m\n\u001b[32m     47\u001b[39m \u001b[38;5;66;03m# Find the search box and enter the keyword\u001b[39;00m\n\u001b[32m     48\u001b[39m _selenium.set_text_input_value(\n\u001b[32m     49\u001b[39m             \u001b[33m\"\u001b[39m\u001b[33mby_css\u001b[39m\u001b[33m\"\u001b[39m, \u001b[33m\"\u001b[39m\u001b[33m#query_div input[type=\u001b[39m\u001b[33m'\u001b[39m\u001b[33mtext\u001b[39m\u001b[33m'\u001b[39m\u001b[33m]\u001b[39m\u001b[33m\"\u001b[39m, keyword\n\u001b[32m     50\u001b[39m         )\n",
      "\u001b[36mFile \u001b[39m\u001b[32mc:\\Users\\SamiCHAKROUN\\data_scraping\\.env\\Lib\\site-packages\\selenium\\webdriver\\remote\\webdriver.py:547\u001b[39m, in \u001b[36mWebDriver.execute_script\u001b[39m\u001b[34m(self, script, *args)\u001b[39m\n\u001b[32m    544\u001b[39m converted_args = \u001b[38;5;28mlist\u001b[39m(args)\n\u001b[32m    545\u001b[39m command = Command.W3C_EXECUTE_SCRIPT\n\u001b[32m--> \u001b[39m\u001b[32m547\u001b[39m \u001b[38;5;28;01mreturn\u001b[39;00m \u001b[38;5;28;43mself\u001b[39;49m\u001b[43m.\u001b[49m\u001b[43mexecute\u001b[49m\u001b[43m(\u001b[49m\u001b[43mcommand\u001b[49m\u001b[43m,\u001b[49m\u001b[43m \u001b[49m\u001b[43m{\u001b[49m\u001b[33;43m\"\u001b[39;49m\u001b[33;43mscript\u001b[39;49m\u001b[33;43m\"\u001b[39;49m\u001b[43m:\u001b[49m\u001b[43m \u001b[49m\u001b[43mscript\u001b[49m\u001b[43m,\u001b[49m\u001b[43m \u001b[49m\u001b[33;43m\"\u001b[39;49m\u001b[33;43margs\u001b[39;49m\u001b[33;43m\"\u001b[39;49m\u001b[43m:\u001b[49m\u001b[43m \u001b[49m\u001b[43mconverted_args\u001b[49m\u001b[43m}\u001b[49m\u001b[43m)\u001b[49m[\u001b[33m\"\u001b[39m\u001b[33mvalue\u001b[39m\u001b[33m\"\u001b[39m]\n",
      "\u001b[36mFile \u001b[39m\u001b[32mc:\\Users\\SamiCHAKROUN\\data_scraping\\.env\\Lib\\site-packages\\selenium\\webdriver\\remote\\webdriver.py:448\u001b[39m, in \u001b[36mWebDriver.execute\u001b[39m\u001b[34m(self, driver_command, params)\u001b[39m\n\u001b[32m    446\u001b[39m response = \u001b[38;5;28mself\u001b[39m.command_executor.execute(driver_command, params)\n\u001b[32m    447\u001b[39m \u001b[38;5;28;01mif\u001b[39;00m response:\n\u001b[32m--> \u001b[39m\u001b[32m448\u001b[39m     \u001b[38;5;28;43mself\u001b[39;49m\u001b[43m.\u001b[49m\u001b[43merror_handler\u001b[49m\u001b[43m.\u001b[49m\u001b[43mcheck_response\u001b[49m\u001b[43m(\u001b[49m\u001b[43mresponse\u001b[49m\u001b[43m)\u001b[49m\n\u001b[32m    449\u001b[39m     response[\u001b[33m\"\u001b[39m\u001b[33mvalue\u001b[39m\u001b[33m\"\u001b[39m] = \u001b[38;5;28mself\u001b[39m._unwrap_value(response.get(\u001b[33m\"\u001b[39m\u001b[33mvalue\u001b[39m\u001b[33m\"\u001b[39m, \u001b[38;5;28;01mNone\u001b[39;00m))\n\u001b[32m    450\u001b[39m     \u001b[38;5;28;01mreturn\u001b[39;00m response\n",
      "\u001b[36mFile \u001b[39m\u001b[32mc:\\Users\\SamiCHAKROUN\\data_scraping\\.env\\Lib\\site-packages\\selenium\\webdriver\\remote\\errorhandler.py:232\u001b[39m, in \u001b[36mErrorHandler.check_response\u001b[39m\u001b[34m(self, response)\u001b[39m\n\u001b[32m    230\u001b[39m         alert_text = value[\u001b[33m\"\u001b[39m\u001b[33malert\u001b[39m\u001b[33m\"\u001b[39m].get(\u001b[33m\"\u001b[39m\u001b[33mtext\u001b[39m\u001b[33m\"\u001b[39m)\n\u001b[32m    231\u001b[39m     \u001b[38;5;28;01mraise\u001b[39;00m exception_class(message, screen, stacktrace, alert_text)  \u001b[38;5;66;03m# type: ignore[call-arg]  # mypy is not smart enough here\u001b[39;00m\n\u001b[32m--> \u001b[39m\u001b[32m232\u001b[39m \u001b[38;5;28;01mraise\u001b[39;00m exception_class(message, screen, stacktrace)\n",
      "\u001b[31mJavascriptException\u001b[39m: Message: javascript error: Unexpected string\n  (Session info: chrome=136.0.7103.49)\nStacktrace:\n\tGetHandleVerifier [0x00007FF7558ACF45+75717]\n\tGetHandleVerifier [0x00007FF7558ACFA0+75808]\n\t(No symbol) [0x00007FF755678F9A]\n\t(No symbol) [0x00007FF755680998]\n\t(No symbol) [0x00007FF755683D51]\n\t(No symbol) [0x00007FF7557205F8]\n\t(No symbol) [0x00007FF7556F737A]\n\t(No symbol) [0x00007FF75571F39C]\n\t(No symbol) [0x00007FF7556F7153]\n\t(No symbol) [0x00007FF7556C0421]\n\t(No symbol) [0x00007FF7556C11B3]\n\tGetHandleVerifier [0x00007FF755BAD71D+3223453]\n\tGetHandleVerifier [0x00007FF755BA7CC2+3200322]\n\tGetHandleVerifier [0x00007FF755BC5AF3+3322739]\n\tGetHandleVerifier [0x00007FF7558C6A1A+180890]\n\tGetHandleVerifier [0x00007FF7558CE11F+211359]\n\tGetHandleVerifier [0x00007FF7558B5294+109332]\n\tGetHandleVerifier [0x00007FF7558B5442+109762]\n\tGetHandleVerifier [0x00007FF75589BA59+4825]\n\tBaseThreadInitThunk [0x00007FFDA561E8D7+23]\n\tRtlUserThreadStart [0x00007FFDA67914FC+44]\n"
     ]
    }
   ],
   "source": [
    "import os\n",
    "import sys\n",
    "from selenium import webdriver\n",
    "from selenium.webdriver.common.keys import Keys\n",
    "from selenium.webdriver.common.by import By\n",
    "import time\n",
    "# Get the parent directory (one level up)\n",
    "parent_dir = os.path.abspath(os.path.join(os.getcwd(), \"..\"))\n",
    "\n",
    "# Add it to Python path\n",
    "if parent_dir not in sys.path:\n",
    "    sys.path.append(parent_dir)\n",
    "from src.config import DEFAULT_ENTRY\n",
    "from src.utils.selenium_util.selenium_util import SeleniumUtil\n",
    "from src.services.google_alerts_service.processing.processing import GoogleAlertsProcessing\n",
    "\n",
    "_selenium = SeleniumUtil()\n",
    "processing = GoogleAlertsProcessing\n",
    "CONSTANT_DUMMY_TEXT=\"### DUMMY TEXT ###\"\n",
    "options={\"language\": \"anglais\",\n",
    "    \"region\": \"États-Unis\",}\n",
    "available_options = dict()\n",
    "# List of keywords to search\n",
    "keywords = [\"keyword1\", \"keyword2\", \"keyword3\", \"keyword4\"]  # Replace with your keywords\n",
    "\n",
    "_selenium.get_url(\"https://www.google.com/alerts\")\n",
    "_selenium.set_text_input_value(\n",
    "                \"by_css\", \"#query_div input[type='text']\", CONSTANT_DUMMY_TEXT\n",
    "            )\n",
    "_selenium.click_button(\"by_css\", \"span.show_options[role='button']\")\n",
    "for option in options:\n",
    "    if options.get(option) != DEFAULT_ENTRY:\n",
    "        processing.set_option(\n",
    "            _selenium, option, options.get(option), available_options\n",
    "        )\n",
    "html_with_correct_options = _selenium.driver.page_source \n",
    "time.sleep(2)\n",
    "# Loop through keywords starting from the first one\n",
    "for i, keyword in enumerate(keywords):\n",
    "    if i > 0:  # For subsequent keywords, open a new tab\n",
    "        _selenium.driver.execute_script(\"window.open('');\")\n",
    "        _selenium.driver.switch_to.window(_selenium.driver.window_handles[i])\n",
    "        _selenium.driver.execute_script(f\"\"\"\n",
    "            document.body.innerHTML = `{html_with_correct_options}`;\n",
    "        \"\"\")\n",
    "    \n",
    "    # Find the search box and enter the keyword\n",
    "    _selenium.set_text_input_value(\n",
    "                \"by_css\", \"#query_div input[type='text']\", keyword\n",
    "            )\n",
    "    \n",
    "    # Short pause between searches\n",
    "    time.sleep(2)\n",
    "    \n",
    "print(f\"Successfully searched for {len(keywords)} keywords in separate tabs.\")"
   ]
  },
  {
   "cell_type": "code",
   "execution_count": null,
   "id": "71ac47ec",
   "metadata": {},
   "outputs": [],
   "source": []
  }
 ],
 "metadata": {
  "kernelspec": {
   "display_name": ".env",
   "language": "python",
   "name": "python3"
  },
  "language_info": {
   "codemirror_mode": {
    "name": "ipython",
    "version": 3
   },
   "file_extension": ".py",
   "mimetype": "text/x-python",
   "name": "python",
   "nbconvert_exporter": "python",
   "pygments_lexer": "ipython3",
   "version": "3.12.3"
  }
 },
 "nbformat": 4,
 "nbformat_minor": 5
}
